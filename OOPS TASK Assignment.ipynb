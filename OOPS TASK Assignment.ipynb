{
 "cells": [
  {
   "cell_type": "code",
   "execution_count": 1,
   "id": "8c81b7ed-bf0c-4761-82e7-2bca3ed74665",
   "metadata": {},
   "outputs": [],
   "source": [
    "# OOPS TASK Assignment"
   ]
  },
  {
   "cell_type": "code",
   "execution_count": 2,
   "id": "b0ede016-edd4-4775-8be0-94b76934169f",
   "metadata": {},
   "outputs": [],
   "source": [
    "# Q-1\n",
    "\n",
    "class vehicle:\n",
    "    def __init__(self,name_of_vehicle, max_speed,average_of_vehicle):\n",
    "        self.name_of_vehicle=name_of_vehicle\n",
    "        self.max_speed=max_speed\n",
    "        self.average_of_vehicle=average_of_vehicle\n",
    "        \n",
    "# Q-2\n",
    "\n",
    "class car(vehicle):\n",
    "    def seating_capacity(self,capacity):\n",
    "        return f\"{self.name_of_vehicle} has seating capacity {capacity}\""
   ]
  },
  {
   "cell_type": "code",
   "execution_count": 5,
   "id": "2d957950-e8e0-40ff-a96e-348cc7beaa6a",
   "metadata": {},
   "outputs": [],
   "source": [
    "obj_car=car(\"Ertiga\",400,20)"
   ]
  },
  {
   "cell_type": "code",
   "execution_count": 6,
   "id": "88df4bab-9b5c-4507-bbbb-26757ae59166",
   "metadata": {},
   "outputs": [
    {
     "data": {
      "text/plain": [
       "'Ertiga has seating capacity 8'"
      ]
     },
     "execution_count": 6,
     "metadata": {},
     "output_type": "execute_result"
    }
   ],
   "source": [
    "obj_car.seating_capacity(8)"
   ]
  },
  {
   "cell_type": "code",
   "execution_count": 17,
   "id": "527adc91-fa1a-4cf4-b72b-57e63fe04040",
   "metadata": {},
   "outputs": [],
   "source": [
    "# Q-3\n",
    "\"\"\"Multiple inheritance is a feature in object-oriented programming \n",
    "where a class can inherit attributes and methods from more than one parent class.\"\"\"\n",
    "\n",
    "class Vehicle:\n",
    "    def __init__(self, name, fuel_type):\n",
    "        self.name = name\n",
    "        self.fuel_type = fuel_type\n",
    "\n",
    "    def display_info(self):\n",
    "        return f\"{self.name} runs on {self.fuel_type} fuel.\"\n",
    "\n",
    "class ElectricDevice:\n",
    "    def __init__(self, brand, power):\n",
    "        self.brand = brand\n",
    "        self.power = power\n",
    "\n",
    "    def display_info(self):\n",
    "        return f\"{self.brand} device with {self.power} watts power.\"\n",
    "\n",
    "# Multiple Inheritance\n",
    "class ElectricCar(Vehicle, ElectricDevice):\n",
    "    def __init__(self, name, fuel_type, brand, power):\n",
    "        Vehicle.__init__(self, name=name, fuel_type=fuel_type)\n",
    "        ElectricDevice.__init__(self, brand=brand, power=power)\n",
    "\n",
    "    def display_car_info(self):\n",
    "        vehicle_info = self.display_info()  \n",
    "        device_info = ElectricDevice.display_info(self)  \n",
    "        return f\"{vehicle_info} {device_info}\"\n",
    "\n"
   ]
  },
  {
   "cell_type": "code",
   "execution_count": 18,
   "id": "38d59854-e26b-4954-b3ae-673b6ff615a3",
   "metadata": {},
   "outputs": [],
   "source": [
    "my_electric_car = ElectricCar(name=\"Tesla Model S\", fuel_type=\"Electric\", brand=\"Tesla\", power=500)"
   ]
  },
  {
   "cell_type": "code",
   "execution_count": 19,
   "id": "e2645be7-e766-48a9-ac72-41afd93bcd5d",
   "metadata": {},
   "outputs": [
    {
     "data": {
      "text/plain": [
       "'Tesla Model S runs on Electric fuel. Tesla device with 500 watts power.'"
      ]
     },
     "execution_count": 19,
     "metadata": {},
     "output_type": "execute_result"
    }
   ],
   "source": [
    "my_electric_car.display_car_info()"
   ]
  },
  {
   "cell_type": "code",
   "execution_count": 1,
   "id": "a1081db9-6f17-4c1c-a117-f5af14a9a88b",
   "metadata": {},
   "outputs": [],
   "source": [
    "# Q-4\n",
    "\"\"\" getter and setter methods are used to access and modify the private attributes of a class, respectively. \n",
    "These methods allow you to encapsulate the internal state of an object and control access to it.\"\"\"\n",
    "\n",
    "class BankAccount:\n",
    "    def __init__(self, balance, number):\n",
    "        self.__balance = balance\n",
    "        self.number = number\n",
    "        \n",
    "    @property\n",
    "    def access_balance(self):\n",
    "        return self.__balance\n",
    "    \n",
    "    @access_balance.setter\n",
    "    def set_balance(self, new_balance):\n",
    "        if new_balance >= 0:  # Allowing zero or positive balance\n",
    "            self.__balance = new_balance\n",
    "        else:\n",
    "            print(\"Balance should not be negative.\")"
   ]
  },
  {
   "cell_type": "code",
   "execution_count": 2,
   "id": "33e7f534-8c95-4758-806a-167dea4bca8e",
   "metadata": {},
   "outputs": [],
   "source": [
    "bank=BankAccount(balance=5000,number=125478935)"
   ]
  },
  {
   "cell_type": "code",
   "execution_count": 3,
   "id": "d968fd9e-009d-4f37-9e04-a974272ffce1",
   "metadata": {},
   "outputs": [
    {
     "data": {
      "text/plain": [
       "5000"
      ]
     },
     "execution_count": 3,
     "metadata": {},
     "output_type": "execute_result"
    }
   ],
   "source": [
    "bank.access_balance"
   ]
  },
  {
   "cell_type": "code",
   "execution_count": 4,
   "id": "ee147f61-de0b-450d-8a39-5a07bc65633d",
   "metadata": {},
   "outputs": [],
   "source": [
    "bank.set_balance=500"
   ]
  },
  {
   "cell_type": "code",
   "execution_count": 5,
   "id": "637dfeae-f598-4747-b427-41457f0c5834",
   "metadata": {},
   "outputs": [
    {
     "data": {
      "text/plain": [
       "500"
      ]
     },
     "execution_count": 5,
     "metadata": {},
     "output_type": "execute_result"
    }
   ],
   "source": [
    "bank.access_balance"
   ]
  },
  {
   "cell_type": "code",
   "execution_count": 8,
   "id": "b3bc71c4-0fc8-4694-833c-e0d1299af441",
   "metadata": {},
   "outputs": [],
   "source": [
    "# Q-5\n",
    "\"\"\"Method overriding in Python occurs when a child class provides a specific implementation for a method that \n",
    "is already defined in its parent class, using the same method name and signature.\"\"\"\n",
    "\n",
    "class Animal:\n",
    "    def speak(self):\n",
    "        print(\"Animal speaks\")\n",
    "\n",
    "class Dog(Animal):\n",
    "    def speak(self):\n",
    "        print(\"Dog barks\")\n",
    "\n",
    "class Cat(Animal):\n",
    "    def speak(self):\n",
    "        print(\"Cat meows\")"
   ]
  },
  {
   "cell_type": "code",
   "execution_count": 10,
   "id": "c8c28560-c3a0-4690-82c3-6a1c67f9edc8",
   "metadata": {},
   "outputs": [],
   "source": [
    "animal=Animal()\n",
    "dog=Dog()\n",
    "cat=Cat()"
   ]
  },
  {
   "cell_type": "code",
   "execution_count": 12,
   "id": "653f6e6c-993c-4386-be40-8f8bb386d48d",
   "metadata": {},
   "outputs": [
    {
     "name": "stdout",
     "output_type": "stream",
     "text": [
      "Animal speaks\n"
     ]
    }
   ],
   "source": [
    "animal.speak()"
   ]
  },
  {
   "cell_type": "code",
   "execution_count": null,
   "id": "8b1a6fc8-d4e3-4758-ba98-8f169f374d5b",
   "metadata": {},
   "outputs": [],
   "source": []
  }
 ],
 "metadata": {
  "kernelspec": {
   "display_name": "Python 3 (ipykernel)",
   "language": "python",
   "name": "python3"
  },
  "language_info": {
   "codemirror_mode": {
    "name": "ipython",
    "version": 3
   },
   "file_extension": ".py",
   "mimetype": "text/x-python",
   "name": "python",
   "nbconvert_exporter": "python",
   "pygments_lexer": "ipython3",
   "version": "3.10.8"
  }
 },
 "nbformat": 4,
 "nbformat_minor": 5
}
